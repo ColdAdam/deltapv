{
 "cells": [
  {
   "cell_type": "code",
   "execution_count": 32,
   "metadata": {},
   "outputs": [],
   "source": [
    "import jaxpv\n",
    "import jax\n",
    "from jax import numpy as np\n",
    "from jax.scipy.optimize import minimize\n",
    "from functools import partial\n",
    "import matplotlib.pyplot as plt\n",
    "import sys\n",
    "sys.path.insert(0, \"../\")\n",
    "from test import design, ls\n",
    "cell = jaxpv.simulator.init_cell(design, ls)"
   ]
  },
  {
   "cell_type": "code",
   "execution_count": 46,
   "metadata": {},
   "outputs": [],
   "source": [
    "N = cell.Eg.size\n",
    "bound_eq = jaxpv.bcond.boundary_eq(cell)\n",
    "phi_ini = np.linspace(bound_eq.phi0, bound_eq.phiL, N)"
   ]
  },
  {
   "cell_type": "code",
   "execution_count": 47,
   "metadata": {},
   "outputs": [],
   "source": [
    "def f(phi):\n",
    "    pot = jaxpv.objects.Potentials(phi, np.zeros(N), np.zeros(N))\n",
    "    resid = jaxpv.residual.comp_F_eq(cell, bound_eq, pot)\n",
    "    return np.linalg.norm(resid)"
   ]
  },
  {
   "cell_type": "code",
   "execution_count": 95,
   "metadata": {},
   "outputs": [],
   "source": [
    "solution = minimize(f, phi_ini, method=\"bfgs\", tol=1e-12)"
   ]
  },
  {
   "cell_type": "code",
   "execution_count": 96,
   "metadata": {},
   "outputs": [
    {
     "name": "stderr",
     "output_type": "stream",
     "text": [
      "INFO:root:\t iteration: 1          error: 66.91653061463086\n",
      "INFO:root:\t iteration: 2          error: 60.11183988494553\n",
      "INFO:root:\t iteration: 3          error: 47.73431311446412\n",
      "INFO:root:\t iteration: 4          error: 34.431773579729786\n",
      "INFO:root:\t iteration: 5          error: 22.792069933995396\n",
      "INFO:root:\t iteration: 6          error: 13.77871910169957\n",
      "INFO:root:\t iteration: 7          error: 7.348736757686016\n",
      "INFO:root:\t iteration: 8          error: 3.198657247642982\n",
      "INFO:root:\t iteration: 9          error: 0.8717436402367083\n",
      "INFO:root:\t iteration: 10         error: 0.04306003259057671\n",
      "INFO:root:\t iteration: 11         error: 0.0004221580570967811\n",
      "INFO:root:\t iteration: 12         error: 5.1870581391196724e-08\n"
     ]
    }
   ],
   "source": [
    "pot_ini = jaxpv.objects.Potentials(phi_ini, np.zeros(N), np.zeros(N))\n",
    "pot_eq = jaxpv.solver.solve_eq(cell, bound_eq, pot_ini)"
   ]
  },
  {
   "cell_type": "code",
   "execution_count": 99,
   "metadata": {},
   "outputs": [
    {
     "data": {
      "text/plain": [
       "[<matplotlib.lines.Line2D at 0x1a33333d10>]"
      ]
     },
     "execution_count": 99,
     "metadata": {},
     "output_type": "execute_result"
    },
    {
     "data": {
      "image/png": "[encoded data removed]",
      "text/plain": [
       "<Figure size 432x288 with 1 Axes>"
      ]
     },
     "metadata": {
      "needs_background": "light"
     },
     "output_type": "display_data"
    }
   ],
   "source": [
    "plt.plot(solution.x)\n",
    "plt.plot(pot_eq.phi)"
   ]
  },
  {
   "cell_type": "code",
   "execution_count": null,
   "metadata": {},
   "outputs": [],
   "source": []
  }
 ],
 "metadata": {
  "kernelspec": {
   "display_name": "jaxpv",
   "language": "python",
   "name": "jaxpv"
  },
  "language_info": {
   "codemirror_mode": {
    "name": "ipython",
    "version": 3
   },
   "file_extension": ".py",
   "mimetype": "text/x-python",
   "name": "python",
   "nbconvert_exporter": "python",
   "pygments_lexer": "ipython3",
   "version": "3.7.4"
  }
 },
 "nbformat": 4,
 "nbformat_minor": 4
}
