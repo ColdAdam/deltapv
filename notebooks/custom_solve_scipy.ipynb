{
  "nbformat": 4,
  "nbformat_minor": 0,
  "metadata": {
    "colab": {
      "name": "custom_solve_scipy.ipynb",
      "provenance": []
    },
    "kernelspec": {
      "name": "python3",
      "display_name": "Python 3"
    }
  },
  "cells": [
    {
      "cell_type": "code",
      "metadata": {
        "id": "un3_ZR0Cl7-m"
      },
      "source": [
        "from functools import partial\n",
        "import jax.scipy as jsp\n",
        "from jax import lax\n",
        "import jax.numpy as np\n",
        "import numpy as onp\n",
        "import jax\n",
        "\n",
        "\n",
        "def linear_solve(a, b):\n",
        "  a_factors = jsp.linalg.lu_factor(a)\n",
        "  def solve(matvec, x):\n",
        "    return jsp.linalg.lu_solve(a_factors, x)\n",
        "  def transpose_solve(vecmat, x):\n",
        "    return jsp.linalg.lu_solve(a_factors, x, trans=1)\n",
        "  matvec = partial(np.dot, a)\n",
        "  return lax.custom_linear_solve(matvec, b, solve, transpose_solve)\n",
        "\n",
        "def loss(solve):\n",
        "  def f(a, b):\n",
        "    return solve(a, b).sum()\n",
        "  return f\n",
        "\n"
      ],
      "execution_count": 1,
      "outputs": []
    },
    {
      "cell_type": "code",
      "metadata": {
        "colab": {
          "base_uri": "https://localhost:8080/"
        },
        "id": "v_9sFa24l-em",
        "outputId": "177b77f0-bd81-4035-bc7a-744fa19c0437"
      },
      "source": [
        "rs = onp.random.RandomState(0)\n",
        "a = rs.randn(500, 500)\n",
        "a = jax.device_put(a.T @ a + 0.1 * np.eye(500))\n",
        "b = jax.device_put(rs.randn(500))\n",
        "\n",
        "# general purpose solve\n",
        "# current\n",
        "grad = jax.jit(jax.grad(loss(np.linalg.solve)))\n",
        "%timeit jax.device_get(grad(a, b))\n",
        "# 33.8 ms per loop\n",
        "# new\n",
        "grad = jax.jit(jax.grad(loss(linear_solve)))\n",
        "%timeit jax.device_get(grad(a, b))\n",
        "# 10.1 ms per loop"
      ],
      "execution_count": 3,
      "outputs": [
        {
          "output_type": "stream",
          "text": [
            "The slowest run took 41.51 times longer than the fastest. This could mean that an intermediate result is being cached.\n",
            "1 loop, best of 3: 8.42 ms per loop\n",
            "The slowest run took 45.25 times longer than the fastest. This could mean that an intermediate result is being cached.\n",
            "1 loop, best of 3: 9.18 ms per loop\n"
          ],
          "name": "stdout"
        }
      ]
    }
  ]
}