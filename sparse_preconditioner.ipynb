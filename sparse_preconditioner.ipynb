{
  "nbformat": 4,
  "nbformat_minor": 0,
  "metadata": {
    "colab": {
      "name": "sparse_preconditioner.ipynb",
      "provenance": [],
      "authorship_tag": "ABX9TyPNqyOqoPXP5fP28M3RJp12",
      "include_colab_link": true
    },
    "kernelspec": {
      "name": "python3",
      "display_name": "Python 3"
    },
    "accelerator": "GPU"
  },
  "cells": [
    {
      "cell_type": "markdown",
      "metadata": {
        "id": "view-in-github",
        "colab_type": "text"
      },
      "source": [
        "<a href=\"https://colab.research.google.com/github/romanodev/jax-pv/blob/master/sparse_preconditioner.ipynb\" target=\"_parent\"><img src=\"https://colab.research.google.com/assets/colab-badge.svg\" alt=\"Open In Colab\"/></a>"
      ]
    },
    {
      "cell_type": "code",
      "metadata": {
        "id": "3Y0Y8HWY6BDO"
      },
      "source": [
        "import numpy as np\n",
        "import time\n",
        "import sys\n",
        "import jax.numpy as jnp\n",
        "from jax import random\n",
        "import jax\n",
        "from jax import lax\n",
        "from jax import grad, jit, vmap\n"
      ],
      "execution_count": null,
      "outputs": []
    },
    {
      "cell_type": "code",
      "metadata": {
        "id": "3TlcZuRD6F-e"
      },
      "source": [
        "key = random.PRNGKey(1)\n",
        "\n",
        "n = 1000\n",
        "\n",
        "#Jax---------------------------------------\n",
        "A_jax = random.uniform(key,(n,n))*jnp.tri(n).T\n",
        "b_jax = random.uniform(key,(n,1))\n",
        "x_jax = jnp.linalg.solve(A_jax,b_jax)\n",
        "\n",
        "\n",
        "#Numpy-------------------------------------\n",
        "A = np.random.randn(n, n) * np.tri(n).T\n",
        "b = np.random.randn(n)\n",
        "x = np.linalg.solve(A,b)"
      ],
      "execution_count": null,
      "outputs": []
    },
    {
      "cell_type": "code",
      "metadata": {
        "id": "XhR6kxxE6PRZ"
      },
      "source": [
        "def one_shot_numpy(A,b):\n",
        "\n",
        " n = len(b)\n",
        " xcomp_numpy = np.zeros(n)\n",
        " xcomp_numpy[-1] = b[-1]/A[-1,-1]\n",
        " \n",
        " for i in range(n - 2, -1, -1):\n",
        "\n",
        "    xcomp_numpy[i] = (b[i] - np.dot(A[i, i + 1:], xcomp_numpy[i + 1:])) / A[i, i]\n",
        "\n",
        " return xcomp_numpy\n"
      ],
      "execution_count": null,
      "outputs": []
    },
    {
      "cell_type": "code",
      "metadata": {
        "colab": {
          "base_uri": "https://localhost:8080/"
        },
        "id": "UM7YMWsw6QZf",
        "outputId": "ad082a89-1e8f-4518-9e2a-c69642431f08"
      },
      "source": [
        "%%timeit\n",
        "xcomp_numpy = one_shot_numpy(A,b)"
      ],
      "execution_count": null,
      "outputs": [
        {
          "output_type": "stream",
          "text": [
            "100 loops, best of 3: 2.56 ms per loop\n"
          ],
          "name": "stdout"
        }
      ]
    },
    {
      "cell_type": "markdown",
      "metadata": {
        "id": "i9hyz53jC9hy"
      },
      "source": [
        "We first try scan - however, we won't need to differentiate through the solve, hence this is only for testing"
      ]
    },
    {
      "cell_type": "code",
      "metadata": {
        "id": "U7rt5T6w7SaO"
      },
      "source": [
        "@jit\n",
        "def fsub_scan(A_jax,b_jax):\n",
        "\n",
        "  n = len(b_jax)\n",
        "  xcomp_jax = jax.ops.index_update(np.zeros(n), jax.ops.index[-1],b_jax[-1,0]/A_jax[-1,-1])\n",
        "\n",
        "  @jit\n",
        "  def iteration(carry,i):\n",
        "\n",
        "    (xcomp_jax,A_jax,b_jax) = carry\n",
        "    a1 = jnp.where(jnp.arange(n)>i,xcomp_jax,0)\n",
        "    a2 = jnp.where(jnp.arange(n)>i,A_jax[i],0)\n",
        "    tmp = (b_jax[i] - jnp.dot(a1,a2)) / A_jax[i, i]\n",
        "    xcomp_jax = jax.ops.index_update(xcomp_jax, jax.ops.index[i],tmp[0])\n",
        "\n",
        "    return (xcomp_jax,A_jax,b_jax),None\n",
        "\n",
        "  return lax.scan(iteration, (xcomp_jax,A_jax,b_jax), jnp.arange(n-2,-1,-1))[0][0]\n"
      ],
      "execution_count": null,
      "outputs": []
    },
    {
      "cell_type": "code",
      "metadata": {
        "colab": {
          "base_uri": "https://localhost:8080/"
        },
        "id": "RRLgGeB77VVa",
        "outputId": "cc7a8c0b-87f0-4809-d66e-a7cfe3d22ed9"
      },
      "source": [
        "%%timeit\n",
        "xcomp_jax  = fsub_scan(A_jax,b_jax).block_until_ready()"
      ],
      "execution_count": null,
      "outputs": [
        {
          "output_type": "stream",
          "text": [
            "The slowest run took 9.70 times longer than the fastest. This could mean that an intermediate result is being cached.\n",
            "10 loops, best of 3: 19.9 ms per loop\n"
          ],
          "name": "stdout"
        }
      ]
    },
    {
      "cell_type": "code",
      "metadata": {
        "id": "4gXVVGgYDmZd"
      },
      "source": [
        "@jit\n",
        "def fsub_fori_loop(A_jax,b_jax):\n",
        "\n",
        "  n = len(b_jax)\n",
        "  xcomp_jax = jax.ops.index_update(np.zeros(n), jax.ops.index[-1],b_jax[-1,0]/A_jax[-1,-1])\n",
        "\n",
        "  @jit\n",
        "  def run(k,carry):\n",
        "\n",
        "    (xcomp_jax,A_jax,b_jax) = carry\n",
        "    n = len(xcomp_jax)\n",
        "    i = n-2-k\n",
        "    a1 = jnp.where(jnp.arange(n)>i,xcomp_jax,0)\n",
        "    a2 = jnp.where(jnp.arange(n)>i,A_jax[i],0)\n",
        "    tmp = (b_jax[i] - jnp.dot(a1,a2)) / A_jax[i, i]\n",
        "    xcomp_jax = jax.ops.index_update(xcomp_jax, jax.ops.index[i],tmp[0])\n",
        "\n",
        "    return (xcomp_jax,A_jax,b_jax)\n",
        "\n",
        "\n",
        "  return lax.fori_loop(0,n-1,run,(xcomp_jax,A_jax,b_jax))[0]\n",
        "\n"
      ],
      "execution_count": null,
      "outputs": []
    },
    {
      "cell_type": "code",
      "metadata": {
        "colab": {
          "base_uri": "https://localhost:8080/"
        },
        "id": "ifvb8Ws9HXL6",
        "outputId": "5fd77d6d-89e8-46df-b421-0a4919a2beab"
      },
      "source": [
        "%%timeit\n",
        "xcomp_jax  = fsub_fori_loop(A_jax,b_jax).block_until_ready()"
      ],
      "execution_count": null,
      "outputs": [
        {
          "output_type": "stream",
          "text": [
            "The slowest run took 5.30 times longer than the fastest. This could mean that an intermediate result is being cached.\n",
            "10 loops, best of 3: 20 ms per loop\n"
          ],
          "name": "stdout"
        }
      ]
    },
    {
      "cell_type": "code",
      "metadata": {
        "colab": {
          "base_uri": "https://localhost:8080/"
        },
        "id": "mpzwNuk0FWFo",
        "outputId": "85c38e21-4b78-4204-ecb0-f9747694b00e"
      },
      "source": [
        "print(np.allclose(xcomp_jax,x_jax.T[0]))"
      ],
      "execution_count": null,
      "outputs": [
        {
          "output_type": "stream",
          "text": [
            "True\n"
          ],
          "name": "stdout"
        }
      ]
    },
    {
      "cell_type": "markdown",
      "metadata": {
        "id": "yvui7M_WKYuG"
      },
      "source": [
        "TODO: rewrite backsubstitution using this approach https://github.com/google/jax/issues/2491"
      ]
    }
  ]
}